{
  "nbformat": 4,
  "nbformat_minor": 0,
  "metadata": {
    "colab": {
      "provenance": []
    },
    "kernelspec": {
      "name": "python3",
      "display_name": "Python 3"
    },
    "language_info": {
      "name": "python"
    }
  },
  "cells": [
    {
      "cell_type": "code",
      "execution_count": null,
      "metadata": {
        "id": "t0xzjyYyd47W"
      },
      "outputs": [],
      "source": []
    },
    {
      "cell_type": "markdown",
      "source": [
        "1. Data structures are ways of organizing and storing data efficiently for easy access and modification. They are important because they optimize storage, retrieval, and processing operations."
      ],
      "metadata": {
        "id": "9aiBnDzpeCgE"
      }
    },
    {
      "cell_type": "markdown",
      "source": [
        "2.\n",
        "- Mutable: Can be changed after creation (e.g., list, dictionary).\n",
        "- Immutable: Cannot be changed after creation (e.g., tuple, string).\n",
        "Example:\n"
      ],
      "metadata": {
        "id": "uLNffu4bf5HS"
      }
    },
    {
      "cell_type": "code",
      "source": [
        "my_list= [1,2,3,4,5]\n",
        "my_list.append(6)\n",
        "print(my_list) # mutable\n",
        "\n",
        "my_tiple = (1,2,3,4,5)\n",
        " my_tuple.append(6) # immutable\n"
      ],
      "metadata": {
        "colab": {
          "base_uri": "https://localhost:8080/",
          "height": 106
        },
        "id": "1JIum4eFgf5R",
        "outputId": "c73d3151-4d1d-4e32-f61a-043cd8df8e35"
      },
      "execution_count": null,
      "outputs": [
        {
          "output_type": "error",
          "ename": "IndentationError",
          "evalue": "unexpected indent (<ipython-input-4-4ddf442fa79e>, line 6)",
          "traceback": [
            "\u001b[0;36m  File \u001b[0;32m\"<ipython-input-4-4ddf442fa79e>\"\u001b[0;36m, line \u001b[0;32m6\u001b[0m\n\u001b[0;31m    my_tuple.append(6) # immutable\u001b[0m\n\u001b[0m    ^\u001b[0m\n\u001b[0;31mIndentationError\u001b[0m\u001b[0;31m:\u001b[0m unexpected indent\n"
          ]
        }
      ]
    },
    {
      "cell_type": "markdown",
      "source": [
        "3.\n",
        "list : mutable, dynamic, slower due to extra memory allocation\n",
        "\n",
        "tuple: immutable, fixed-size, fast in process.\n"
      ],
      "metadata": {
        "id": "5_4KyPfyhy6g"
      }
    },
    {
      "cell_type": "markdown",
      "source": [
        "4.Dictionaries store data in key-value pairs using a hash table. Keys are unique and help in quick retrieval."
      ],
      "metadata": {
        "id": "z5KiZ3Rti17s"
      }
    },
    {
      "cell_type": "markdown",
      "source": [
        "set are uselful when storing unique elements and perfoming operations like union, intersection, and difference efficiently."
      ],
      "metadata": {
        "id": "CJ2X0jOtjFS8"
      }
    },
    {
      "cell_type": "markdown",
      "source": [
        "6.Strings are immutable sequences of characters, while lists can store multiple data types and are mutable."
      ],
      "metadata": {
        "id": "rswJfYF3jsB8"
      }
    },
    {
      "cell_type": "markdown",
      "source": [
        "7. their immutabllity prevents accidental modifications, matking them rrliable for strong fixed data"
      ],
      "metadata": {
        "id": "N7rat_thj45Y"
      }
    },
    {
      "cell_type": "markdown",
      "source": [
        "8. a hash table is a data structure that allows that allows fast access to data using hash function. python dictionaries use hash table to store key-value pairs efficintly."
      ],
      "metadata": {
        "id": "m3uhAW6skn9w"
      }
    },
    {
      "cell_type": "markdown",
      "source": [
        "9.Yes, Python lists can store mixed data types like integers, strings, and objects.\n",
        "\n"
      ],
      "metadata": {
        "id": "Ae94fKZQlXfA"
      }
    },
    {
      "cell_type": "markdown",
      "source": [
        "10. Strings are immutable to enhance performance and memory optimization, preventing accidental changes.\n"
      ],
      "metadata": {
        "id": "0pG88cyKlsB1"
      }
    },
    {
      "cell_type": "markdown",
      "source": [
        "11\n",
        "- Faster lookup using keys\n",
        "- Better organization with named keys\n",
        "- Easier data association\n"
      ],
      "metadata": {
        "id": "6-JmYTDal5iI"
      }
    },
    {
      "cell_type": "markdown",
      "source": [
        "12.- When storing constant data such as coordinates (x, y, z) or months of the year.\n"
      ],
      "metadata": {
        "id": "fho_pAxzmBFO"
      }
    },
    {
      "cell_type": "markdown",
      "source": [
        "13. sete automatically remove duplicates"
      ],
      "metadata": {
        "id": "MQliot9FmPFX"
      }
    },
    {
      "cell_type": "markdown",
      "source": [
        "14\n",
        "in lists, it checkes if an element existing.\n",
        "\n",
        "in dictionaries, it checkes if a key exists."
      ],
      "metadata": {
        "id": "lDo6205SmfFH"
      }
    },
    {
      "cell_type": "markdown",
      "source": [
        "15. no, tuples are immutable . once crated, their elements cannt be changed."
      ],
      "metadata": {
        "id": "-t98LFjjm1p6"
      }
    },
    {
      "cell_type": "markdown",
      "source": [
        "16. **bold text** A dictionary inside another dictionary.\n",
        "Example:\n"
      ],
      "metadata": {
        "id": "qR3POPCznsP7"
      }
    },
    {
      "cell_type": "code",
      "source": [
        "name = {\"name\":\"gopi\",\"details\":{\"age:25\",\"city:hyderabad\"}}"
      ],
      "metadata": {
        "id": "96c9mccPntTz"
      },
      "execution_count": null,
      "outputs": []
    },
    {
      "cell_type": "markdown",
      "source": [
        "17. when datea order matters\n",
        "\n",
        "when stoing sequential items\n",
        "\n",
        "when frequent modifications are needed"
      ],
      "metadata": {
        "id": "tmMZNItiple0"
      }
    },
    {
      "cell_type": "markdown",
      "source": [
        "19. key aer stored based on hash values, not order, making retrival fast but  not sequential"
      ],
      "metadata": {
        "id": "o0jYGJfaqBc2"
      }
    },
    {
      "cell_type": "markdown",
      "source": [
        "20. lists use index based retrieval."
      ],
      "metadata": {
        "id": "xYENm_kBqBvj"
      }
    },
    {
      "cell_type": "code",
      "source": [],
      "metadata": {
        "id": "-v9mrWiVqoHy"
      },
      "execution_count": null,
      "outputs": []
    },
    {
      "cell_type": "markdown",
      "source": [
        "***pracical questions**"
      ],
      "metadata": {
        "id": "DuPlz-1jqwG5"
      }
    },
    {
      "cell_type": "code",
      "source": [
        "1\n",
        "name = \"borra gopi\""
      ],
      "metadata": {
        "id": "OJyLK7zXrG3k"
      },
      "execution_count": null,
      "outputs": []
    },
    {
      "cell_type": "code",
      "source": [
        "2\n",
        "print(len(\"borra gopi\"))"
      ],
      "metadata": {
        "colab": {
          "base_uri": "https://localhost:8080/"
        },
        "id": "KTHxLVgWrPyi",
        "outputId": "4092697e-6cf5-4e44-f2bc-453c46056377"
      },
      "execution_count": null,
      "outputs": [
        {
          "output_type": "stream",
          "name": "stdout",
          "text": [
            "10\n"
          ]
        }
      ]
    },
    {
      "cell_type": "code",
      "source": [
        "4\n",
        "name = (\"borra gopi\")\n",
        "print(name.upper())"
      ],
      "metadata": {
        "colab": {
          "base_uri": "https://localhost:8080/"
        },
        "id": "epzfo3QArZMh",
        "outputId": "8d6a45f4-6cc1-4b3f-eadf-e1b1e305b49e"
      },
      "execution_count": null,
      "outputs": [
        {
          "output_type": "stream",
          "name": "stdout",
          "text": [
            "BORRA GOPI\n"
          ]
        }
      ]
    },
    {
      "cell_type": "code",
      "source": [
        "5\n",
        "sentance= \"i like apple\"\n",
        "print(sentance.replace(\"apple\",\"banana\"))"
      ],
      "metadata": {
        "colab": {
          "base_uri": "https://localhost:8080/"
        },
        "id": "fmFzlR2vrv4s",
        "outputId": "23f3d359-975d-40d8-b145-5b9ab52a37d0"
      },
      "execution_count": null,
      "outputs": [
        {
          "output_type": "stream",
          "name": "stdout",
          "text": [
            "i like banana\n"
          ]
        }
      ]
    },
    {
      "cell_type": "code",
      "source": [
        "6\n",
        "list=[1,2,3,4]\n",
        "print(list)"
      ],
      "metadata": {
        "colab": {
          "base_uri": "https://localhost:8080/"
        },
        "id": "CeQTJWGNsEhJ",
        "outputId": "2bb0148c-1080-40c8-fa09-6496775c0317"
      },
      "execution_count": null,
      "outputs": [
        {
          "output_type": "stream",
          "name": "stdout",
          "text": [
            "[1, 2, 3, 4]\n"
          ]
        }
      ]
    },
    {
      "cell_type": "code",
      "source": [
        "3\n",
        "print(\"pytho programmming\" [:3])"
      ],
      "metadata": {
        "colab": {
          "base_uri": "https://localhost:8080/"
        },
        "id": "KfFlz5b8sYrt",
        "outputId": "659dc73f-fa1d-41c0-f5fd-b4843ec60d9b"
      },
      "execution_count": null,
      "outputs": [
        {
          "output_type": "stream",
          "name": "stdout",
          "text": [
            "pyt\n"
          ]
        }
      ]
    },
    {
      "cell_type": "code",
      "source": [
        "7\n",
        "list = [1,2,3,5]\n",
        "list.append(10)\n",
        "print(list)"
      ],
      "metadata": {
        "colab": {
          "base_uri": "https://localhost:8080/"
        },
        "id": "yTYHJMvOtRUs",
        "outputId": "9431cdc5-c14e-4f23-f13c-d87fd57ad801"
      },
      "execution_count": null,
      "outputs": [
        {
          "output_type": "stream",
          "name": "stdout",
          "text": [
            "[1, 2, 3, 5, 10]\n"
          ]
        }
      ]
    },
    {
      "cell_type": "code",
      "source": [
        "8\n",
        "my_list = [1,2,3,4,5,]\n",
        "my_list.remove(3)\n",
        "print(my_list)"
      ],
      "metadata": {
        "colab": {
          "base_uri": "https://localhost:8080/"
        },
        "id": "OUs_d2EEto7Q",
        "outputId": "0e49a346-c0a8-49d7-f77a-18655a4a3d6f"
      },
      "execution_count": null,
      "outputs": [
        {
          "output_type": "stream",
          "name": "stdout",
          "text": [
            "[1, 2, 4, 5]\n"
          ]
        }
      ]
    },
    {
      "cell_type": "code",
      "source": [
        "9\n",
        "my_list1 = ['a','b','c','d']\n",
        "print(my_list1[1])"
      ],
      "metadata": {
        "colab": {
          "base_uri": "https://localhost:8080/"
        },
        "id": "VJaOFS2WuQTn",
        "outputId": "804f9045-d256-4ad7-859c-395c91cb6e57"
      },
      "execution_count": null,
      "outputs": [
        {
          "output_type": "stream",
          "name": "stdout",
          "text": [
            "b\n"
          ]
        }
      ]
    },
    {
      "cell_type": "code",
      "source": [
        "10\n",
        "my_list = [10,20,30,40,50]\n",
        "print(my_list[::-1])"
      ],
      "metadata": {
        "colab": {
          "base_uri": "https://localhost:8080/"
        },
        "id": "KMzEreidusMi",
        "outputId": "61bdf3c4-1d9f-466a-9bbe-692f82cb0b45"
      },
      "execution_count": null,
      "outputs": [
        {
          "output_type": "stream",
          "name": "stdout",
          "text": [
            "[50, 40, 30, 20, 10]\n"
          ]
        }
      ]
    },
    {
      "cell_type": "code",
      "source": [
        "11\n",
        "my_tuple = (100,200,300)"
      ],
      "metadata": {
        "id": "jgIAJ1OLxxVz"
      },
      "execution_count": null,
      "outputs": []
    },
    {
      "cell_type": "code",
      "source": [
        "Colorsolors = ('red','green','blue','yellow')\n",
        "print(Colors[-2])"
      ],
      "metadata": {
        "colab": {
          "base_uri": "https://localhost:8080/"
        },
        "id": "3GeYUsMyyLP7",
        "outputId": "7f95dfdb-bf36-43c5-c483-bafbd3a838e1"
      },
      "execution_count": null,
      "outputs": [
        {
          "output_type": "stream",
          "name": "stdout",
          "text": [
            "blue\n"
          ]
        }
      ]
    },
    {
      "cell_type": "code",
      "source": [
        "13\n",
        "my_tiple = (10,20,5,15)\n",
        "print(min(my_tiple))"
      ],
      "metadata": {
        "colab": {
          "base_uri": "https://localhost:8080/"
        },
        "id": "XwTu2aemyqkB",
        "outputId": "eb175998-4c06-4596-b66c-76e9c3287c2b"
      },
      "execution_count": null,
      "outputs": [
        {
          "output_type": "stream",
          "name": "stdout",
          "text": [
            "5\n"
          ]
        }
      ]
    },
    {
      "cell_type": "code",
      "source": [
        "14\n",
        "my_tiple = ('dog','cat','rabbit')\n",
        "print(my_tiple.index(\"cat\"))\n"
      ],
      "metadata": {
        "colab": {
          "base_uri": "https://localhost:8080/"
        },
        "id": "1sMaVRtLzdAN",
        "outputId": "e5386640-b7e1-4b63-b984-9e867a686504"
      },
      "execution_count": null,
      "outputs": [
        {
          "output_type": "stream",
          "name": "stdout",
          "text": [
            "1\n"
          ]
        }
      ]
    },
    {
      "cell_type": "code",
      "source": [
        "15\n",
        "my_fruits = ('apple','banana','cherry',\"kiwi\")\n",
        "print( \"kiwi\" in my_fruits)"
      ],
      "metadata": {
        "colab": {
          "base_uri": "https://localhost:8080/"
        },
        "id": "ygLQeCF3z8Kz",
        "outputId": "a2e3bc55-8f09-4270-90b6-01bfbf645d37"
      },
      "execution_count": null,
      "outputs": [
        {
          "output_type": "stream",
          "name": "stdout",
          "text": [
            "True\n"
          ]
        }
      ]
    },
    {
      "cell_type": "code",
      "source": [],
      "metadata": {
        "id": "HEtNs7yj0YhH"
      },
      "execution_count": null,
      "outputs": []
    }
  ]
}